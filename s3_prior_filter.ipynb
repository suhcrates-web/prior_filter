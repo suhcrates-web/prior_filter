{
 "cells": [
  {
   "cell_type": "code",
   "execution_count": null,
   "id": "445a62ee",
   "metadata": {},
   "outputs": [],
   "source": [
    "##### 데이터 로드\n",
    "import torch\n",
    "from matplotlib import pyplot as plt\n",
    "from tqdm import tqdm\n",
    "dataset0 = 'dolma_flatten'\n",
    "# dataset0 = 'pile_github'\n",
    "\n",
    "probe0 = torch.load(f'prior_filter/{dataset0}/all_prior_tfdf.pt')\n",
    "means = torch.load(f'prior_filter/{dataset0}/{dataset0}-train/all_data_means.pt') \n",
    "stds =  torch.load(f'prior_filter/{dataset0}/{dataset0}-train/all_data_stds.pt')\n",
    "ppls = torch.load(f'ppls/{dataset0}-train.pt')"
   ]
  },
  {
   "cell_type": "code",
   "execution_count": null,
   "id": "0e2fe659",
   "metadata": {},
   "outputs": [],
   "source": [
    "## sort \n",
    "means_rank = means.argsort(descending=False).argsort(descending=False)\n",
    "stds_rank = stds.argsort(descending=False).argsort(descending=False)\n",
    "ppls_rank = ppls.argsort(descending=False).argsort(descending=False)\n"
   ]
  },
  {
   "cell_type": "code",
   "execution_count": null,
   "id": "7cf1a1be",
   "metadata": {},
   "outputs": [],
   "source": [
    "##   select 0.5 data with means and stds\n",
    "\n",
    "r=0.0\n",
    "r_tmp = r\n",
    "for i in range(1,6):\n",
    "    p = 1 / (10 ** i)\n",
    "    \n",
    "    for ii in range(10):\n",
    "        r_tmp = r\n",
    "        r_tmp += (p * (ii))\n",
    "        low_th = len(means_rank) * (0.5 - r_tmp)\n",
    "        high_th = len(means_rank) * (0.5 + r_tmp)\n",
    "        means_selected_bool = ((means_rank > low_th) & (means_rank < high_th))\n",
    "\n",
    "\n",
    "        low_th = len(stds_rank) * (0.5 - r_tmp)\n",
    "        high_th = len(stds_rank) * (0.5 + r_tmp)\n",
    "        stds_selected_bool = ((stds_rank > low_th) & (stds_rank < high_th))\n",
    "\n",
    "        merged_bool = (means_selected_bool  & stds_selected_bool)\n",
    "        rate = merged_bool.sum() / len(merged_bool)\n",
    "        if rate > 0.5:\n",
    "            r += (p * (ii-1))\n",
    "            print(f\"{i} {ii}\")\n",
    "            break\n",
    "print(r)\n",
    "\n",
    "torch.save(merged_bool, f'filtered_indices/prior_filter/{dataset0}-train_merged.pt')"
   ]
  },
  {
   "cell_type": "code",
   "execution_count": null,
   "id": "ae98d931",
   "metadata": {},
   "outputs": [],
   "source": [
    "##   select 0.5 data with means \n",
    "r = 0.25\n",
    "low_th = len(means_rank) * (0.5 - r)\n",
    "high_th = len(means_rank) * (0.5 + r)\n",
    "means_selected_bool = ((means_rank > low_th) & (means_rank < high_th))\n",
    "torch.save(means_selected_bool, f'filtered_indices/prior_filter/{dataset0}-train_means.pt')\n",
    "\n",
    "##   select 0.5 data with stds \n",
    "low_th = len(stds_rank) * (0.5 - r)\n",
    "high_th = len(stds_rank) * (0.5 + r)\n",
    "stds_selected_bool = ((stds_rank > low_th) & (stds_rank < high_th))\n",
    "torch.save(stds_selected_bool, f'filtered_indices/prior_filter/{dataset0}-train_stds.pt')\n",
    "\n",
    "##   select 0.5 data with ppls \n",
    "low_th = len(ppls_rank) * (0.5 - r)\n",
    "high_th = len(ppls_rank) * (0.5 + r)\n",
    "ppls_selected_bool = ((ppls_rank > low_th) & (ppls_rank < high_th))\n",
    "torch.save(ppls_selected_bool, f'filtered_indices/ppls/{dataset0}-train_ppls.pt')\n",
    "\n",
    "##   select 0.5 with no filter\n",
    "no_filter_indices = torch.randperm(len(means_rank))[len(ppl_tensor_rameans_ranknk)//2:]\n",
    "torch.save(no_filter_indices, f'filtered_indices/prior_filter/{dataset0}-train_no_filter.pt')\n"
   ]
  },
  {
   "cell_type": "code",
   "execution_count": null,
   "id": "469cd4aa",
   "metadata": {},
   "outputs": [],
   "source": []
  },
  {
   "cell_type": "code",
   "execution_count": null,
   "id": "66a9c0d1",
   "metadata": {},
   "outputs": [],
   "source": []
  },
  {
   "cell_type": "code",
   "execution_count": null,
   "id": "396cac22",
   "metadata": {},
   "outputs": [],
   "source": []
  }
 ],
 "metadata": {
  "language_info": {
   "name": "python"
  }
 },
 "nbformat": 4,
 "nbformat_minor": 5
}
